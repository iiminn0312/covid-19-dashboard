{
 "cells": [
  {
   "cell_type": "code",
   "execution_count": 1,
   "id": "ef5f174e-db00-4f81-aef9-707c6c06adc0",
   "metadata": {
    "editable": true,
    "slideshow": {
     "slide_type": ""
    },
    "tags": []
   },
   "outputs": [],
   "source": [
    "from uk_covid19 import Cov19API\n",
    "import json\n",
    "import pandas as pd\n",
    "import matplotlib.pyplot as plt\n",
    "import ipywidgets as wdg\n",
    "from IPython.display import clear_output"
   ]
  },
  {
   "cell_type": "code",
   "execution_count": null,
   "id": "e9d1393c-15c0-4f22-8a5a-1337921d158d",
   "metadata": {},
   "outputs": [],
   "source": [
    "# make figures larger\n",
    "plt.rcParams['figure.dpi'] = 100"
   ]
  },
  {
   "cell_type": "code",
   "execution_count": null,
   "id": "73edc6eb-7d99-4651-ac9d-139efbd664a6",
   "metadata": {},
   "outputs": [],
   "source": [
    "# Data Source: Public Health England API"
   ]
  },
  {
   "cell_type": "code",
   "execution_count": null,
   "id": "fe691c88-a5b7-4587-916a-8c1f271042ec",
   "metadata": {},
   "outputs": [],
   "source": [
    "# We are going to develop a simple dashboard which displays the graph of \n",
    "# a comparison of the number of new cases with the number tests, broke down by region.\n",
    "# It will allow users to select regions and get the corresponding output in real-time."
   ]
  },
  {
   "cell_type": "code",
   "execution_count": null,
   "id": "6d984327-804c-4687-aac7-05bc2d7ffe9b",
   "metadata": {},
   "outputs": [],
   "source": [
    "# Section 1 is to load and wrangle the data"
   ]
  },
  {
   "cell_type": "code",
   "execution_count": null,
   "id": "03851402-128e-4ce6-80e2-44820ca6110f",
   "metadata": {
    "editable": true,
    "slideshow": {
     "slide_type": ""
    },
    "tags": []
   },
   "outputs": [],
   "source": [
    "# define filters to get COVID-19 data for different regions\n",
    "filters = [\n",
    "    'areaType=region'\n",
    "]\n",
    "\n",
    "# define the structure of the data to retrieve\n",
    "# values here are the names of the PHE metrics\n",
    "structure = {\n",
    "    \"date\": \"date\",\n",
    "    \"areaName\": \"areaName\",\n",
    "    \"newCases\": \"newCasesBySpecimenDate\",\n",
    "    \"newTests\": \"newVirusTestsBySpecimenDate\"\n",
    "}"
   ]
  },
  {
   "cell_type": "code",
   "execution_count": null,
   "id": "27b92950-bedb-4501-ae81-ddb07607922a",
   "metadata": {},
   "outputs": [],
   "source": [
    "api = Cov19API(filters=filters, structure=structure)"
   ]
  },
  {
   "cell_type": "code",
   "execution_count": null,
   "id": "a4729a23-fa1e-4e04-9f30-a23d0cd51fe0",
   "metadata": {
    "editable": true,
    "slideshow": {
     "slide_type": ""
    },
    "tags": []
   },
   "outputs": [],
   "source": [
    "# retrieve COVID-19 data from the API in JSON format\n",
    "covid_data=api.get_json()"
   ]
  },
  {
   "cell_type": "code",
   "execution_count": 8,
   "id": "49150594-9056-4790-b2ec-0efbe997f28e",
   "metadata": {
    "editable": true,
    "slideshow": {
     "slide_type": ""
    },
    "tags": []
   },
   "outputs": [],
   "source": [
    "# save the retrieved data to a JSON file\n",
    "with open(\"covid_data.json\", \"wt\") as OUTF:\n",
    "    json.dump(covid_data, OUTF)"
   ]
  },
  {
   "cell_type": "code",
   "execution_count": 9,
   "id": "ec3c93d8-b12d-4f3e-abf6-cb950754a959",
   "metadata": {},
   "outputs": [],
   "source": [
    "# enable the embedding of matplotlib output\n",
    "%matplotlib inline"
   ]
  },
  {
   "cell_type": "code",
   "execution_count": 10,
   "id": "3687f5b0-873c-4916-b65c-cd89c7d5c0ee",
   "metadata": {},
   "outputs": [],
   "source": [
    "# get the saved COVID-19 data from the JSON file\n",
    "with open(\"covid_data.json\", \"rt\") as INFILE:\n",
    "    data=json.load(INFILE)"
   ]
  },
  {
   "cell_type": "code",
   "execution_count": 11,
   "id": "51606a22-84a1-444b-9bf3-0bec4cc6ce72",
   "metadata": {},
   "outputs": [],
   "source": [
    "# convert the data to a DataFrame\n",
    "df=pd.DataFrame(data[\"data\"])\n",
    "df[\"date\"]=pd.to_datetime(df[\"date\"])"
   ]
  },
  {
   "cell_type": "code",
   "execution_count": 12,
   "id": "608fc14e-9b7f-4c8c-869b-90b06d2cae43",
   "metadata": {},
   "outputs": [],
   "source": [
    "# use Pandas pivot function to reshape the DataFrame\n",
    "pivot_data = df.pivot_table(\n",
    "    index=\"date\",\n",
    "    columns=\"areaName\",\n",
    "    values=[\"newCases\", \"newTests\"],\n",
    "    aggfunc='sum'\n",
    ")\n",
    "\n",
    "pivot_data = pivot_data.reset_index()\n",
    "\n",
    "# join the column names\n",
    "new_columns = ['_'.join(col).strip() for col in pivot_data.columns.values]\n",
    "\n",
    "# assign the new column names to the DataFrame\n",
    "pivot_data.columns = new_columns"
   ]
  },
  {
   "cell_type": "code",
   "execution_count": 13,
   "id": "0033cfe0-988a-414d-93af-996fbb79f1da",
   "metadata": {},
   "outputs": [],
   "source": [
    "# save the DataFrame to a pickle file for later use\n",
    "df.to_pickle(\"df.pkl\")"
   ]
  },
  {
   "cell_type": "code",
   "execution_count": 14,
   "id": "0bbb15c7-a7b9-4142-98b2-1e6101780043",
   "metadata": {},
   "outputs": [],
   "source": [
    "# read the saved DataFrame from the pickle file\n",
    "df=pd.read_pickle(\"df.pkl\")"
   ]
  },
  {
   "cell_type": "code",
   "execution_count": 15,
   "id": "d4c82174-0632-425d-8ab9-d8dab04c847e",
   "metadata": {},
   "outputs": [],
   "source": [
    "# Section 2 is about data visualization and \n",
    "# adding interactive controls for the dashboard."
   ]
  },
  {
   "cell_type": "code",
   "execution_count": 16,
   "id": "0c30520c-d97b-4137-954b-6487f739312e",
   "metadata": {},
   "outputs": [],
   "source": [
    "# The button below allows users to refresh data from the Public Health England API."
   ]
  },
  {
   "cell_type": "code",
   "execution_count": 17,
   "id": "02520328-096b-410f-ac6a-379023d0cf90",
   "metadata": {},
   "outputs": [],
   "source": [
    "def access_api(button):\n",
    "    apibutton.icon=\"check\"\n",
    "    apibutton.disabled=True\n",
    "\n",
    "apibutton=wdg.Button(\n",
    "    description='Refresh data',\n",
    "    disabled=False,\n",
    "    button_style='', \n",
    "    tooltip='Click to download current Public Health England data',\n",
    "    icon='download'\n",
    ")\n",
    "\n",
    "apibutton.on_click(access_api)"
   ]
  },
  {
   "cell_type": "code",
   "execution_count": 18,
   "id": "3155ac3b-ecbf-4ad5-b7b9-4e5e90d90192",
   "metadata": {},
   "outputs": [],
   "source": [
    "# The selection checkboxes allow users to select regions of interest for comparison."
   ]
  },
  {
   "cell_type": "code",
   "execution_count": 19,
   "id": "f483e243-7ee3-4647-815e-395dcb4fd0d2",
   "metadata": {
    "editable": true,
    "slideshow": {
     "slide_type": ""
    },
    "tags": []
   },
   "outputs": [
    {
     "data": {
      "text/plain": [
       "'\\n    ## COVID-19 Data Dashboard\\n    \\n    This dashboard allows you to visualize the comparison of Covid-19 cases and tests for different regions.\\n    \\n    **Data Source:**\\n    \\n    The data is sourced from the Public Health England API, providing up-to-date information on Covid-19 cases and tests for various regions.\\n    \\n    **Instructions:**\\n    \\n    1. Click the \"Refresh data\" button to download the latest data from the Public Health England API.\\n    2. Use the checkboxes to select regions for comparison.\\n    3. The plot will dynamically update based on your region selection.\\n'"
      ]
     },
     "metadata": {},
     "output_type": "display_data"
    },
    {
     "data": {
      "application/vnd.jupyter.widget-view+json": {
       "model_id": "2fe40d746ea04cc5857b74a08ad83e6a",
       "version_major": 2,
       "version_minor": 0
      },
      "text/plain": [
       "Button(description='Refresh data', icon='download', style=ButtonStyle(), tooltip='Click to download current Pu…"
      ]
     },
     "metadata": {},
     "output_type": "display_data"
    },
    {
     "data": {
      "application/vnd.jupyter.widget-view+json": {
       "model_id": "da14c75e27724781bb24ab9807a265ea",
       "version_major": 2,
       "version_minor": 0
      },
      "text/plain": [
       "VBox(children=(HBox(children=(Checkbox(value=False, description='North West'), Checkbox(value=False, descripti…"
      ]
     },
     "metadata": {},
     "output_type": "display_data"
    },
    {
     "data": {
      "application/vnd.jupyter.widget-view+json": {
       "model_id": "7fde658a791e4e2fb38d564772011210",
       "version_major": 2,
       "version_minor": 0
      },
      "text/plain": [
       "Output()"
      ]
     },
     "metadata": {},
     "output_type": "display_data"
    }
   ],
   "source": [
    "# get a list of region names\n",
    "regions = df['areaName'].unique()\n",
    "\n",
    "# create Checkbox widgets for each region\n",
    "checkboxes = [\n",
    "    wdg.Checkbox(description=region) \n",
    "    for region in regions\n",
    "]\n",
    "\n",
    "output = wdg.Output()\n",
    "\n",
    "# create a VBox containing a HBox to organize the checkbox widgets\n",
    "vbox = wdg.VBox(\n",
    "    children=[\n",
    "        wdg.HBox(children=checkboxes),\n",
    "        output\n",
    "    ]\n",
    ")\n",
    "\n",
    "# define the function to update the plot data based on the selected regions\n",
    "def update_plot(**kwargs): #since we have a large number of checkboxes...\n",
    "    with output:  \n",
    "        clear_output(wait=True)  # clear previous output\n",
    "        selected_regions = [checkbox.description for checkbox in checkboxes if checkbox.value]\n",
    "\n",
    "        plt.figure(figsize=(15, 6))\n",
    "        \n",
    "        for region in selected_regions:\n",
    "            region_data = df[df['areaName'] == region].dropna(subset=['newCases'])\n",
    "            plt.plot(region_data['date'], region_data['newCases'], label=f'Cases - {region}')\n",
    "            plt.plot(region_data['date'], region_data['newTests'], label=f'Tests - {region}', linestyle='dashed')\n",
    "\n",
    "        plt.title('Covid-19 Cases and Tests Comparison')\n",
    "        plt.xlabel('Date')\n",
    "        plt.ylabel('Count')\n",
    "        if plt.gca().get_lines(): \n",
    "            plt.legend(loc='upper left', fontsize='medium') \n",
    "        plt.show()\n",
    "        \n",
    "# attach the update_plot function to the button's 'on_click' event\n",
    "apibutton.on_click(access_api)\n",
    "\n",
    "# create an interactive_output widget\n",
    "interactive_output = wdg.interactive_output(\n",
    "    update_plot, \n",
    "    {f'checkbox_{i}': checkbox for i, checkbox in enumerate(checkboxes)}\n",
    ")\n",
    "\n",
    "description_text = '''\n",
    "    ## COVID-19 Data Dashboard\n",
    "    \n",
    "    This dashboard allows you to visualize the comparison of Covid-19 cases and tests for different regions.\n",
    "    \n",
    "    **Data Source:**\n",
    "    \n",
    "    The data is sourced from the Public Health England API, providing up-to-date information on Covid-19 cases and tests for various regions.\n",
    "    \n",
    "    **Instructions:**\n",
    "    \n",
    "    1. Click the \"Refresh data\" button to download the latest data from the Public Health England API.\n",
    "    2. Use the checkboxes to select regions for comparison.\n",
    "    3. The plot will dynamically update based on your region selection.\n",
    "'''\n",
    "\n",
    "display(description_text, apibutton, vbox, interactive_output)"
   ]
  },
  {
   "cell_type": "code",
   "execution_count": null,
   "id": "c4de56e8-3da4-4037-b6ce-fc460da43f48",
   "metadata": {},
   "outputs": [
    {
     "name": "stdout",
     "output_type": "stream",
     "text": [
      "[Voila] Using /tmp to store connection files\n",
      "[Voila] Storing connection files in /tmp/voila_17wlxmnz.\n",
      "[Voila] Serving static files from /opt/conda/lib/python3.10/site-packages/voila/static.\n",
      "[Voila] Voilà is running at:\n",
      "http://localhost:8866/\n",
      "[Voila] WARNING | No web browser found: could not locate runnable browser.\n"
     ]
    }
   ],
   "source": [
    "!voila dashboard.ipynb"
   ]
  },
  {
   "cell_type": "code",
   "execution_count": null,
   "id": "7a358873-5c3f-4474-87c1-eaa78d03901e",
   "metadata": {},
   "outputs": [],
   "source": []
  }
 ],
 "metadata": {
  "kernelspec": {
   "display_name": "Python 3 (ipykernel)",
   "language": "python",
   "name": "python3"
  },
  "language_info": {
   "codemirror_mode": {
    "name": "ipython",
    "version": 3
   },
   "file_extension": ".py",
   "mimetype": "text/x-python",
   "name": "python",
   "nbconvert_exporter": "python",
   "pygments_lexer": "ipython3",
   "version": "3.10.13"
  },
  "widgets": {
   "application/vnd.jupyter.widget-state+json": {
    "state": {},
    "version_major": 2,
    "version_minor": 0
   }
  }
 },
 "nbformat": 4,
 "nbformat_minor": 5
}
